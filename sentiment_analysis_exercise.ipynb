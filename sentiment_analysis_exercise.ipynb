{
 "cells": [
  {
   "cell_type": "code",
   "execution_count": 1,
   "metadata": {},
   "outputs": [
    {
     "name": "stdout",
     "output_type": "stream",
     "text": [
      "Data Points: 2748 \n",
      "\n",
      "Excerpt data set:\n",
      "                                                         Phrase  Sentiment\n",
      "0  So there is no way for me to plug it in here in the US u...          0\n",
      "1                                  Good case, Excellent value.          1\n",
      "2                                       Great for the jawbone.          1\n",
      "3  Tied to charger for conversations lasting more than 45 m...          0\n",
      "4                                            The mic is great.          1 \n",
      "\n"
     ]
    },
    {
     "data": {
      "image/png": "[encoded data removed]",
      "text/plain": [
       "<Figure size 432x288 with 1 Axes>"
      ]
     },
     "metadata": {
      "needs_background": "light"
     },
     "output_type": "display_data"
    }
   ],
   "source": [
    "import tensorflow as tf\n",
    "import pandas as pd\n",
    "import os\n",
    "import glob\n",
    "%matplotlib inline\n",
    "from matplotlib import pyplot as plt \n",
    "pd.options.display.max_colwidth = 60\n",
    "\n",
    "zip_file = tf.keras.utils.get_file('sentiment%20labelled%20sentences.zip', \n",
    "    'https://archive.ics.uci.edu/ml/machine-learning-databases/00331/sentiment%20labelled%20sentences.zip',\n",
    "    extract=True)\n",
    "path = os.path.dirname(zip_file) + \"/sentiment labelled sentences/\"\n",
    "all_files = sorted(glob.glob(os.path.join(path, '*_labelled.txt')))\n",
    "df = pd.concat((pd.read_csv(f, sep='\\t', names=['Phrase','Sentiment']) for f in all_files), ignore_index=True)\n",
    "print(\"Data Points:\", len(df), \"\\n\")\n",
    "print(\"Excerpt data set:\\n\", df.head(), \"\\n\")\n",
    "\n",
    "plt.bar(['0 (negative)', '1 (positive)'], df.groupby('Sentiment').count()['Phrase'])\n",
    "plt.title(\"Data points by (sentiment) label\")\n",
    "plt.xlabel('Sentiment'); plt.ylabel('Phrases (data points)')\n",
    "plt.show()"
   ]
  },
  {
   "cell_type": "code",
   "execution_count": 2,
   "metadata": {},
   "outputs": [
    {
     "name": "stdout",
     "output_type": "stream",
     "text": [
      "Training data points:  2198\n",
      "Testing data points:  550\n"
     ]
    }
   ],
   "source": [
    "import random\n",
    "random.seed(777)\n",
    "\n",
    "# 80% training, 20% test\n",
    "train_size = int(df.shape[0] * .8)\n",
    "s = random.sample(range(df.shape[0]), df.shape[0])\n",
    "df_train = df.iloc[s[:train_size]]\n",
    "df_test = df.iloc[s[train_size:]]\n",
    "print(\"Training data points: \", len(df_train))\n",
    "print(\"Testing data points: \", len(df_test))\n",
    "# print([len(df_train), len(df_test)])"
   ]
  },
  {
   "cell_type": "code",
   "execution_count": 3,
   "metadata": {},
   "outputs": [
    {
     "name": "stdout",
     "output_type": "stream",
     "text": [
      "Excerpt corpus:\n",
      "the problem stunning\n"
     ]
    }
   ],
   "source": [
    "# Tokenize phrases, up to 1000 words in corpus\n",
    "tokenizer = tf.keras.preprocessing.text.Tokenizer(num_words = 1000)\n",
    "tokenizer.fit_on_texts(df_train['Phrase'])\n",
    "print(\"Excerpt corpus:\")\n",
    "print(tokenizer.index_word[1], tokenizer.index_word[300], tokenizer.index_word[1000])"
   ]
  },
  {
   "cell_type": "code",
   "execution_count": 4,
   "metadata": {},
   "outputs": [
    {
     "name": "stdout",
     "output_type": "stream",
     "text": [
      "Dimension of training matrix (data points x features):\n",
      " (2198, 1000) \n",
      "\n",
      "First sentence:\n",
      " 939    I like the fact that it rests lightly against your ear, rather than inside.\n",
      "Name: Phrase, dtype: object \n",
      "\n",
      "Index: (array([  1,   3,   6,  14,  36,  61,  73, 127, 334, 477, 478]),)\n",
      "Recognized words: ['the i it that like your than ear fact rather inside']\n"
     ]
    }
   ],
   "source": [
    "matrix_train = tf.convert_to_tensor(tokenizer.texts_to_matrix(df_train['Phrase'], mode = \"binary\"), tf.float32)\n",
    "matrix_test = tf.convert_to_tensor(tokenizer.texts_to_matrix(df_test['Phrase'], mode = \"binary\"), tf.float32)\n",
    "y_train = tf.convert_to_tensor(df_train['Sentiment'].to_numpy().reshape((-1,1)), tf.float32)\n",
    "y_test = tf.convert_to_tensor(df_test['Sentiment'].to_numpy().reshape((-1,1)), tf.float32)\n",
    "\n",
    "pd.options.display.max_colwidth = 100\n",
    "print(\"Dimension of training matrix (data points x features):\\n\", matrix_train.shape, \"\\n\")\n",
    "print(\"First sentence:\\n\", str(df_train['Phrase'][0:1]), \"\\n\")\n",
    "print(\"Index:\", (matrix_train[0].numpy() == 1).nonzero())\n",
    "print(\"Recognized words:\", tokenizer.sequences_to_texts((matrix_train[0].numpy() == 1).nonzero()))"
   ]
  },
  {
   "cell_type": "code",
   "execution_count": 5,
   "metadata": {},
   "outputs": [],
   "source": [
    "# Set model weights\n",
    "rni = tf.random_normal_initializer(mean = 0.0, stddev = 0.05, seed = 777)\n",
    "W = tf.Variable(rni(shape = (matrix_train.shape[1], 1)))\n",
    "b = tf.Variable(tf.zeros([1]))\n",
    "\n",
    "#@tf.function\n",
    "def model_logits(X):\n",
    "    return tf.linalg.matmul(X, W) + b\n",
    "\n",
    "#@tf.function\n",
    "def model(X):\n",
    "    return 1.0 / (1.0 + tf.exp(-model_logits(X)))\n",
    "\n",
    "# (stochastic) gradient descent\n",
    "opt = tf.keras.optimizers.SGD(learning_rate=3)\n",
    "\n",
    "alpha = 0\n",
    "loss_fn = lambda: (- tf.math.reduce_mean(\n",
    "    ys * tf.math.log(model(xs))\n",
    "    + (1.0 - ys) * tf.math.log(1.0 - model(xs)))\n",
    "    + alpha * tf.math.reduce_mean(tf.math.abs(W)))"
   ]
  },
  {
   "cell_type": "code",
   "execution_count": 6,
   "metadata": {},
   "outputs": [
    {
     "name": "stdout",
     "output_type": "stream",
     "text": [
      "Model performance with randomly initialized weights (has not learned anything!):\n",
      "\n",
      "Confusion matrix [[tp, fp], [fn, tn]]:\n",
      " [[125. 102.]\n",
      " [171. 152.]] \n",
      "\n",
      "Metrics:\n",
      " {'accuracy': 50.36, 'sensitivity': 42.23, 'specificity': 59.84}\n"
     ]
    }
   ],
   "source": [
    "def calculate_binary_confusion_matrix(x, y_true, threshold=0.5):\n",
    "    y_pred_raw = model(x)\n",
    "    def update_and_return_value(m, y_true, y_pred_raw):\n",
    "        m.update_state(y_true, y_pred_raw)\n",
    "        return m.result().numpy()        \n",
    "    tp = update_and_return_value(tf.keras.metrics.TruePositives(threshold), y_true, y_pred_raw)\n",
    "    fp = update_and_return_value(tf.keras.metrics.FalsePositives(threshold), y_true, y_pred_raw)\n",
    "    fn = update_and_return_value(tf.keras.metrics.FalseNegatives(threshold), y_true, y_pred_raw)\n",
    "    tn = update_and_return_value(tf.keras.metrics.TrueNegatives(threshold), y_true, y_pred_raw)\n",
    "    return tf.convert_to_tensor([[tp, fp],[fn, tn]])\n",
    "\n",
    "def calculate_metrics_from_binary_confusion_matrix(C):\n",
    "    [[tp, fp], [fn, tn]] = C.numpy()    \n",
    "    return {'accuracy': round((tp + tn) / (tp + fp + tn + fn) * 100, 2),\n",
    "            'sensitivity': round(tp / (tp + fn) * 100, 2),\n",
    "            'specificity': round(tn / (tn + fp) * 100, 2)}\n",
    "\n",
    "print(\"Model performance with randomly initialized weights (has not learned anything!):\\n\")\n",
    "C = calculate_binary_confusion_matrix(matrix_test, y_test)\n",
    "print(\"Confusion matrix [[tp, fp], [fn, tn]]:\\n\", C.numpy(), \"\\n\")\n",
    "print(\"Metrics:\\n\", calculate_metrics_from_binary_confusion_matrix(C))"
   ]
  },
  {
   "cell_type": "code",
   "execution_count": 7,
   "metadata": {},
   "outputs": [],
   "source": [
    "# Train model\n",
    "iterations = 300\n",
    "# batch_size = int(matrix_train.shape[0] / 2) # 2 batches\n",
    "batch_size = matrix_train.shape[0] # 1 batch\n",
    "losses = []\n",
    "for _ in range(iterations): \n",
    "    for i in range(0, matrix_train.shape[0], batch_size): \n",
    "        xs = matrix_train[i:i+batch_size, :]\n",
    "        ys = y_train[i:i+batch_size]\n",
    "        opt.minimize(loss_fn, var_list=[W,b])\n",
    "        losses.append(loss_fn().numpy())"
   ]
  },
  {
   "cell_type": "code",
   "execution_count": 8,
   "metadata": {},
   "outputs": [
    {
     "data": {
      "image/png": "[encoded data removed]",
      "text/plain": [
       "<Figure size 432x288 with 1 Axes>"
      ]
     },
     "metadata": {
      "needs_background": "light"
     },
     "output_type": "display_data"
    }
   ],
   "source": [
    "# How many zero weights?\n",
    "from matplotlib import pyplot as plt \n",
    "plt.hist(W.numpy(), bins = 100) \n",
    "plt.title(\"Weights histogram\") \n",
    "plt.xlabel('Weight value'); plt.ylabel('Frequency')\n",
    "plt.show()"
   ]
  },
  {
   "cell_type": "code",
   "execution_count": 9,
   "metadata": {},
   "outputs": [
    {
     "data": {
      "image/png": "[encoded data removed]",
      "text/plain": [
       "<Figure size 432x288 with 1 Axes>"
      ]
     },
     "metadata": {
      "needs_background": "light"
     },
     "output_type": "display_data"
    }
   ],
   "source": [
    "# Stable updates?\n",
    "from matplotlib import pyplot as plt \n",
    "plt.plot(losses) \n",
    "plt.title(\"Loss function\")\n",
    "plt.xlabel('Iterations'); plt.ylabel('Loss')\n",
    "plt.show()"
   ]
  },
  {
   "cell_type": "code",
   "execution_count": 10,
   "metadata": {},
   "outputs": [
    {
     "name": "stdout",
     "output_type": "stream",
     "text": [
      "Model performance:\n",
      "\n",
      "Confusion matrix [[tp, fp], [fn, tn]]:\n",
      " [[224.  50.]\n",
      " [ 72. 204.]] \n",
      "\n",
      "Metrics:\n",
      " {'accuracy': 77.82, 'sensitivity': 75.68, 'specificity': 80.31}\n"
     ]
    }
   ],
   "source": [
    "print(\"Model performance:\\n\")\n",
    "C = calculate_binary_confusion_matrix(matrix_test, y_test, threshold = 0.5)\n",
    "print(\"Confusion matrix [[tp, fp], [fn, tn]]:\\n\", C.numpy(), \"\\n\")\n",
    "print(\"Metrics:\\n\", calculate_metrics_from_binary_confusion_matrix(C))"
   ]
  },
  {
   "cell_type": "code",
   "execution_count": 11,
   "metadata": {},
   "outputs": [
    {
     "name": "stdout",
     "output_type": "stream",
     "text": [
      "Applying the model to further phrases:\n",
      " tf.Tensor(\n",
      "[[0.60729307]\n",
      " [0.60729307]\n",
      " [0.97443444]\n",
      " [0.8406795 ]\n",
      " [0.250483  ]], shape=(5, 1), dtype=float32)\n"
     ]
    }
   ],
   "source": [
    "phrases = ['this is my day', 'is this my day?', 'this is a great day!', 'this is not a great day', 'this is so not my day!!']\n",
    "matrix = tf.convert_to_tensor(tokenizer.texts_to_matrix(phrases, mode = \"binary\"), tf.float32)\n",
    "print(\"Applying the model to further phrases:\\n\", model(matrix))"
   ]
  }
 ],
 "metadata": {
  "celltoolbar": "Tags",
  "kernelspec": {
   "display_name": "Python 3",
   "language": "python",
   "name": "python3"
  },
  "language_info": {
   "codemirror_mode": {
    "name": "ipython",
    "version": 3
   },
   "file_extension": ".py",
   "mimetype": "text/x-python",
   "name": "python",
   "nbconvert_exporter": "python",
   "pygments_lexer": "ipython3",
   "version": "3.7.5"
  }
 },
 "nbformat": 4,
 "nbformat_minor": 4
}
